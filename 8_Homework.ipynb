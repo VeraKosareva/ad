{
 "cells": [
  {
   "cell_type": "code",
   "execution_count": 1,
   "metadata": {},
   "outputs": [
    {
     "name": "stderr",
     "output_type": "stream",
     "text": [
      "2021-02-22 20:40:57,590 (__init__.py:515 MainThread) ERROR - TeleBot: \"A request to the Telegram API was unsuccessful. Error code: 409. Description: Conflict: terminated by other getUpdates request; make sure that only one bot instance is running\"\n"
     ]
    }
   ],
   "source": [
    "import telebot\n",
    "from telebot import types\n",
    "import requests\n",
    "import os\n",
    "\n",
    "bot = telebot.TeleBot(open(os.path.expanduser('~/.mybottoken')).read().strip())\n",
    "\n",
    "stop = False\n",
    "\n",
    "def update_dog():\n",
    "    global dog\n",
    "    r = requests.get('https://api.thedogapi.com/v1/images/search')\n",
    "    dog = r.json()[0]['url']\n",
    "    \n",
    "    \n",
    "\n",
    "def update_cat():\n",
    "    global cat\n",
    "    r = requests.get('https://api.thecatapi.com/v1/images/search')\n",
    "    cat = r.json()[0]['url']\n",
    "    \n",
    "def stop():\n",
    "    return stop == True\n",
    "\n",
    "\n",
    "@bot.message_handler(commands=['start'])\n",
    "def welcome(message):\n",
    "    markup = types.InlineKeyboardMarkup()\n",
    "    mrk = types.InlineKeyboardButton(text='Круто! Присылай!', callback_data='catalog')\n",
    "    mrk1 = types.InlineKeyboardButton(text='Нет, спасибо!', callback_data='bye')\n",
    "    markup.add(mrk,mrk1)\n",
    "    bot.send_message(message.chat.id, 'Привет! Чтобы поднять тебе настроение, я могу присылать тебе фото кошечек или собачек каждый день.', reply_markup=markup)\n",
    "    \n",
    "    \n",
    "@bot.message_handler(commands=['unsubscribe'])\n",
    "def farewell(message):\n",
    "    stop()\n",
    "    bot.send_message(message.chat.id, 'Я больше не буду присылать тебе фото. Пока!')\n",
    "    \n",
    "\n",
    "@bot.callback_query_handler(func=lambda call: True)\n",
    "def answer(call): \n",
    "    if call.data == 'catalog':\n",
    "        markup1 = types.InlineKeyboardMarkup()\n",
    "        mar = types.InlineKeyboardButton(text='Кошечки', callback_data='cats')\n",
    "        mar2 = types.InlineKeyboardButton(text='Собачки', callback_data='dogs')\n",
    "        markup1.add(mar,mar2)\n",
    "        bot.send_message(call.message.chat.id,'Кого присылать?',reply_markup=markup1)\n",
    "    elif call.data == 'bye':\n",
    "        bot.send_message(call.message.chat.id, 'Что ж, очень жаль. Пока!', reply_markup=None)\n",
    "    elif call.data == 'cats':\n",
    "        bot.send_message(call.message.chat.id, 'Я буду присылать тебе кошечек. Чтобы отписаться, введи команду /unsubscribe', reply_markup=None)\n",
    "        while stop == False:\n",
    "            update_cat()\n",
    "            bot.send_message(call.message.chat.id, cat, reply_markup=None)\n",
    "            time.sleep(86400)\n",
    "    elif call.data == 'dogs':\n",
    "        bot.send_message(call.message.chat.id, 'Я буду присылать тебе собачек. Чтобы отписаться, введи команду /unsubscribe', reply_markup=None)\n",
    "        while stop == False:\n",
    "            update_dog()\n",
    "            bot.send_message(call.message.chat.id, dog, reply_markup=None)\n",
    "            time.sleep(86400)\n",
    "\n",
    "\n",
    "bot.polling()"
   ]
  },
  {
   "cell_type": "code",
   "execution_count": null,
   "metadata": {},
   "outputs": [],
   "source": []
  }
 ],
 "metadata": {
  "kernelspec": {
   "display_name": "Python 3",
   "language": "python",
   "name": "python3"
  },
  "language_info": {
   "codemirror_mode": {
    "name": "ipython",
    "version": 3
   },
   "file_extension": ".py",
   "mimetype": "text/x-python",
   "name": "python",
   "nbconvert_exporter": "python",
   "pygments_lexer": "ipython3",
   "version": "3.8.3"
  }
 },
 "nbformat": 4,
 "nbformat_minor": 4
}
